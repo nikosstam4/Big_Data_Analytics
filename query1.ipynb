{
 "cells": [
  {
   "cell_type": "code",
   "execution_count": 20,
   "id": "b8f9c1d0",
   "metadata": {
    "scrolled": false
   },
   "outputs": [],
   "source": [
    "from pyspark.sql import SparkSession"
   ]
  },
  {
   "cell_type": "code",
   "execution_count": 55,
   "id": "ba6adce8",
   "metadata": {},
   "outputs": [],
   "source": [
    "spark = SparkSession \\\n",
    "    .builder \\\n",
    "    .appName(\"Databases II\") \\\n",
    "    .getOrCreate()"
   ]
  },
  {
   "cell_type": "code",
   "execution_count": null,
   "id": "9504e472",
   "metadata": {
    "collapsed": true
   },
   "outputs": [],
   "source": [
    "movie = (spark.read\n",
    "      .format(\"csv\")\n",
    "      .option('header', 'true')\n",
    "      .option(\"delimiter\", \",\")\n",
    "      .option(\"inferSchema\", \"true\")\n",
    "      .load(\"movie.csv\")\n",
    "     )"
   ]
  },
  {
   "cell_type": "code",
   "execution_count": 77,
   "id": "b9f265a5",
   "metadata": {},
   "outputs": [],
   "source": [
    "rating = (spark.read\n",
    "      .format(\"csv\")\n",
    "      .option('header', 'true')\n",
    "      .option(\"delimiter\", \",\")\n",
    "      .option(\"inferSchema\", \"true\")\n",
    "      .load(\"rating.csv\")\n",
    "     )"
   ]
  },
  {
   "cell_type": "code",
   "execution_count": 5,
   "id": "231b2c3d",
   "metadata": {},
   "outputs": [],
   "source": [
    "# register 'movie' and 'rating' dataframes as SQL temporary views\n",
    "movie.createOrReplaceTempView(\"movie\")\n",
    "rating.createOrReplaceTempView(\"rating\")"
   ]
  },
  {
   "cell_type": "code",
   "execution_count": 7,
   "id": "1eeedb7b",
   "metadata": {},
   "outputs": [
    {
     "name": "stdout",
     "output_type": "stream",
     "text": [
      "+--------------+-------------+\n",
      "|         title|total_viewers|\n",
      "+--------------+-------------+\n",
      "|Jumanji (1995)|        22243|\n",
      "+--------------+-------------+\n",
      "\n"
     ]
    }
   ],
   "source": [
    "# execute the SQL query\n",
    "spark.sql(\"SELECT title, count(userId) AS total_viewers FROM movie INNER JOIN rating ON movie.movieId = rating.movieId WHERE title = 'Jumanji (1995)' GROUP BY title\").show()"
   ]
  },
  {
   "cell_type": "code",
   "execution_count": 19,
   "id": "0913eb64",
   "metadata": {},
   "outputs": [],
   "source": [
    "spark.stop()"
   ]
  },
  {
   "cell_type": "code",
   "execution_count": null,
   "id": "07ad6ed6",
   "metadata": {},
   "outputs": [],
   "source": []
  }
 ],
 "metadata": {
  "kernelspec": {
   "display_name": "Python 3",
   "language": "python",
   "name": "python3"
  },
  "language_info": {
   "codemirror_mode": {
    "name": "ipython",
    "version": 3
   },
   "file_extension": ".py",
   "mimetype": "text/x-python",
   "name": "python",
   "nbconvert_exporter": "python",
   "pygments_lexer": "ipython3",
   "version": "3.6.8"
  }
 },
 "nbformat": 4,
 "nbformat_minor": 5
}
